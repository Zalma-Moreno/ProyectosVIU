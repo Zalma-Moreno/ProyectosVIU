{
  "cells": [
    {
      "cell_type": "markdown",
      "metadata": {
        "id": "view-in-github",
        "colab_type": "text"
      },
      "source": [
        "<a href=\"https://colab.research.google.com/github/Zalma-Moreno/ProyectosVIU/blob/main/Proyecto_Algoritmos_ZalmaMoreno.ipynb\" target=\"_parent\"><img src=\"https://colab.research.google.com/assets/colab-badge.svg\" alt=\"Open In Colab\"/></a>"
      ]
    },
    {
      "cell_type": "markdown",
      "metadata": {
        "id": "hVbXYX-RfPWh"
      },
      "source": [
        "# Algoritmos de optimización - Seminario<br>\n",
        "Nombre y Apellidos:  Zalma Valentina Moreno Galeano <br>\n",
        "Url: https://github.com/.../03MAIR---Algoritmos-de-Optimizacion---2019/tree/master/SEMINARIO<br>\n",
        "Problema:\n",
        "## 3. Combinar cifras y operaciones\n",
        "\n",
        "Descripción del problema:\n",
        "El problema consiste en analizar el siguiente problema y diseñar un algoritmo que lo resuelva.\n",
        "Disponemos de las 9 cifras del 1 al 9 (exluimos el cero) y de los 4 signos basicos de las operaciones fundamentales: suma (+), resta (-), multiplicacion (*) y division (/).\n",
        "Debemos cobinarlos alternativamente sin repetir ninguno de ellos para obtener una cantidad dada. Un ejemplo seria para obtener el 4:\n",
        "**Ejemplo:** 4+2-6/3*1=4\n",
        "Debe analizarse el problema para encontrar todos los valores enteros posibles planteando las siguientes cuestiones:\n",
        "\n",
        "\n",
        "*   Que valor maximo y minimo se pueden segun las condiciones del problema?\n",
        "*   Es posible encontrar todos los valores enteros posibles entre dicho minimo y maximo?\n",
        "\n",
        "Nota: Es posible usar la funcion de python eval para evaluar una expresion:\n",
        "\n",
        "expresion= \"4-2+6\\3*1\"\n",
        "print(evalu(expresion))\n",
        "\n",
        "\n",
        "\n",
        "\n",
        "\n",
        "\n",
        "\n",
        "\n",
        "\n",
        "                                        "
      ]
    },
    {
      "cell_type": "markdown",
      "metadata": {
        "id": "3_-exlrTgLd-"
      },
      "source": [
        "### ¿Cuantas posibilidades hay sin tener en cuenta las restricciones?\n",
        "\n",
        "Sin tener en cuenta que tenemos algunas restricciones anteriormente dichas dentro del probelma de por ejemplo el no repetir cifras u operaciones, el problema entonces ha de combinar alternativamente cifras y operaciones.\n",
        "Para una secuencia con $n$ cifras y $n-1$ operaciones la posibilidad seria:\n",
        "\n",
        "$9^n\\cdot 4^{n-1}$\n",
        "\n",
        "En el caso digamos de 5 cifrsa y 4 operaciones podriamos entonces terminar teniendo:\n",
        "\n",
        "$9^n\\cdot 4^4=59049 \\cdot 256= 15116544$\n",
        "\n",
        "\n",
        "\n",
        "### ¿Cuantas posibilidades hay teniendo en cuenta todas las restricciones.\n",
        "\n",
        "Las cosas cambian cuando se tiene ya en cuenta las restricciones de las cuales son formadas el problema, el de no repetir cifras ni operaciones.\n",
        "Al elegirse $n$ cifras distintas pero del 1 al 9 entonces termina siendo sin repeticion una permutacion $P(9,n)=9!/(9-n)!$\n",
        "\n",
        "En cuanto a las operaciones el elegir $n-1$ operaciones distintas de las 4 disponibles que son (+), resta (-), multiplicacion (\\cdot) y division (/), pero como no hay mas entonce tendriamos una permutacion sin repeticion $P(4, n-1)$.\n",
        "\n",
        "Si dijeramos que $n=5$ y $n-1=4$ entonces:\n",
        "$P(9,5)\\cdot P(4,4)= 9\\cdot8\\cdot7\\cdot6\\cdot5\\cdot4!= 15120 \\cdot24= 362880$\n",
        "\n",
        "El maximo de $n$ cifras es 5 si pensamos en que siempre seran solo 4 operaciones.\n"
      ]
    },
    {
      "cell_type": "markdown",
      "metadata": {
        "id": "dzynfVJahHoY"
      },
      "source": [
        "### Modelo para el espacio de soluciones<br>\n",
        "### ¿Cual es la estructura de datos que mejor se adapta al problema? Argumentalo.(Es posible que hayas elegido una al principio y veas la necesidad de cambiar, arguentalo)\n",
        "\n",
        "Dentro de la estructura que tal vez mejor se adapta al problema seria un arbol de busqueda donde se puede tener en cuenta que cada nivel alterna entre cifras y operaciones, los nodos representan las elecciones parciales y las restricciones se aplicn al expandir los nodos.\n",
        "\n",
        "Implica un orden secuencial lo que un arbol permite modelar la secuencia paso a paso y aplicar las restricciones de manera natural.\n",
        "\n",
        "Podria se maso menos asi:\n",
        "\n",
        "                          (Raíz)\n",
        "                             |\n",
        "              ┌──────────────┼───────────────┐\n",
        "        (Elegir 5 cifras)  ...           (otro conjunto)\n",
        "              |\n",
        "        (Permutar cifras)\n",
        "              |\n",
        "       (Permutar operadores)\n",
        "              |\n",
        "       [cifra op cifra op ... cifra]  ← Hoja\n",
        "\n"
      ]
    },
    {
      "cell_type": "markdown",
      "source": [
        "Podria ser que sea mejor un algoritmo con backtracking donde se usa un arbol de busqueda explicito ya que se construye las expresiones caracter por caracter osea nivel por nivel, tambien en cada llamada recursiva, avanzada a la siguiente desicion,e incluso realiza podas si una rama no cumple las reglas, lo cual es tipico de arboles de busqueda podados. Este seria mas eficiente"
      ],
      "metadata": {
        "id": "9dc3IK9tLwnz"
      }
    },
    {
      "cell_type": "markdown",
      "metadata": {
        "id": "7Z9U2W7bi-XS"
      },
      "source": [
        "### Según el modelo para el espacio de soluciones<br>\n",
        "### ¿Cual es la función objetivo?\n",
        "\n",
        "Segun el problema el objetivo es encontrar el numero de expresiones validas que produzcan exactmaneto el valor objetivo especifico.\n",
        "\n",
        "### ¿Es un problema de maximización o minimización?\n",
        "\n",
        "Al tratar de encontrar la mayor cantidad posible de soluciones que cumplan con todas esas restricciones y que ademas den el valor objetivo entonces es un problema de busqueda pero con el enfoque de maximizacion.\n",
        "\n"
      ]
    },
    {
      "cell_type": "markdown",
      "metadata": {
        "id": "rlnTYgY1j6I2"
      },
      "source": [
        "### Diseña un algoritmo para resolver el problema por fuerza bruta"
      ]
    },
    {
      "cell_type": "code",
      "source": [
        "import itertools\n",
        "\n",
        "def generar_todas_las_expresiones_validas():\n",
        "    cifras_totales = list(range(1, 10))  # Cifras del 1 al 9\n",
        "    operadores = ['+', '-', '*', '/']    # Operadores básicos\n",
        "\n",
        "    expresiones_validas = []\n",
        "\n",
        "    # Paso 1: elegir todas las combinaciones posibles de 5 cifras de 9\n",
        "    for cifras_comb in itertools.combinations(cifras_totales, 5):  # 126 combinaciones\n",
        "        # Paso 2: permutar esas 5 cifras (orden importa)\n",
        "        for cifras_perm in itertools.permutations(cifras_comb):    # 120 permutaciones\n",
        "            # Paso 3: permutar las 4 operaciones posibles (sin repetir)\n",
        "            for operadores_perm in itertools.permutations(operadores):  # 24 permutaciones\n",
        "                # Construir expresión: cifra1 op1 cifra2 op2 cifra3 op3 cifra4 op4 cifra5\n",
        "                expresion = \"\"\n",
        "                for i in range(5):\n",
        "                    expresion += str(cifras_perm[i])\n",
        "                    if i < 4:\n",
        "                        expresion += operadores_perm[i]\n",
        "                expresiones_validas.append(expresion)\n",
        "\n",
        "    return expresiones_validas\n"
      ],
      "metadata": {
        "id": "jwM-HBEH8MOK"
      },
      "execution_count": 55,
      "outputs": []
    },
    {
      "cell_type": "code",
      "source": [
        "expresiones = generar_todas_las_expresiones_validas()\n",
        "print(f\"Total de expresiones generadas: {len(expresiones)}\")\n",
        "print(\"Primeras 5 expresiones:\")\n",
        "for e in expresiones[:5]:\n",
        "    print(e)"
      ],
      "metadata": {
        "colab": {
          "base_uri": "https://localhost:8080/"
        },
        "id": "A71iXupFqQBj",
        "outputId": "ca05710e-9d66-4cbc-c7f0-ff1f84f9ec1d"
      },
      "execution_count": 56,
      "outputs": [
        {
          "output_type": "stream",
          "name": "stdout",
          "text": [
            "Total de expresiones generadas: 362880\n",
            "Primeras 5 expresiones:\n",
            "1+2-3*4/5\n",
            "1+2-3/4*5\n",
            "1+2*3-4/5\n",
            "1+2*3/4-5\n",
            "1+2/3-4*5\n"
          ]
        }
      ]
    },
    {
      "cell_type": "markdown",
      "metadata": {
        "id": "tgrnsC2nkFa8"
      },
      "source": [
        "### Calcula la complejidad del algoritmo por fuerza bruta"
      ]
    },
    {
      "cell_type": "markdown",
      "metadata": {
        "id": "9eUd3xwckP68"
      },
      "source": [
        "Dentro de la complejidad del algoritmo.\n",
        "\n",
        "Primero entendemos que para $n$ cifras tenemos las permutaciones de cifras $P(9,n)$, el de la operaciones $P(4, n-1)$y construccion y evaluacion de expresiones siendo la evaluacion con eval() teniendo complejidad O(L) donde L es la longitud de la expresion (n+(n-1)).\n",
        "\n",
        "Dentro de la notacion Big-O la complejidad dominante viene de $n=5$:\n",
        "$P(9,5)\\cdot P(4,4)= O(9!/(9-5)! \\cdot 4!)= O(15,120 \\cdot 24)=O(362,880)$\n",
        "\n",
        "En la complejidad espacial que conlleva el algoritmo se debe tener en cuenta los requisitos de memoria que son el almacenamiento de permutaciones donde usamos generadores para ello. Tambien el almacenamiento de soluciones que depende del numero de expresiones que evaluen el valor objetivo, en el pero caso O(s) donde s es el numero de soluciones. Y tambien la evaluacion de expresiones.Siendo asi la complejida total $O(n+s)$."
      ]
    },
    {
      "cell_type": "markdown",
      "metadata": {
        "id": "txbrmLmskReM"
      },
      "source": [
        "### Diseña un algoritmo que mejore la complejidad del algortimo por fuerza bruta. Argumenta porque crees que mejora el algoritmo."
      ]
    },
    {
      "cell_type": "code",
      "source": [
        "from itertools import combinations\n",
        "from fractions import Fraction\n",
        "\n",
        "def backtrack(cifras_disponibles, operaciones_disponibles, expresion_actual, cifras_usadas, ops_usadas, expresiones_validas):\n",
        "    # Caso base: expresión completa (5 cifras, 4 operaciones)\n",
        "    if len(cifras_usadas) == 5 and len(ops_usadas) == 4:\n",
        "        expresiones_validas.append(expresion_actual)\n",
        "        return\n",
        "\n",
        "    # Siguiente paso: alternamos cifra y operador\n",
        "    if len(cifras_usadas) == len(ops_usadas):\n",
        "        # Le toca una cifra\n",
        "        for i, cifra in enumerate(cifras_disponibles):\n",
        "            nueva_expr = expresion_actual + str(cifra)\n",
        "            backtrack(\n",
        "                cifras_disponibles[:i] + cifras_disponibles[i+1:],\n",
        "                operaciones_disponibles,\n",
        "                nueva_expr,\n",
        "                cifras_usadas + [cifra],\n",
        "                ops_usadas,\n",
        "                expresiones_validas\n",
        "            )\n",
        "    else:\n",
        "        # Le toca un operador\n",
        "        for i, op in enumerate(operaciones_disponibles):\n",
        "            nueva_expr = expresion_actual + op\n",
        "            backtrack(\n",
        "                cifras_disponibles,\n",
        "                operaciones_disponibles[:i] + operaciones_disponibles[i+1:],\n",
        "                nueva_expr,\n",
        "                cifras_usadas,\n",
        "                ops_usadas + [op],\n",
        "                expresiones_validas\n",
        "            )\n",
        "\n",
        "def generar_expresiones_backtracking():\n",
        "    cifras_totales = list(range(1, 10))\n",
        "    operadores = ['+', '-', '*', '/']\n",
        "    expresiones_validas = []\n",
        "\n",
        "    # Combinaciones de 5 cifras distintas\n",
        "    for cifras_comb in combinations(cifras_totales, 5):\n",
        "        cifras = list(cifras_comb)\n",
        "        backtrack(\n",
        "            cifras_disponibles=cifras,\n",
        "            operaciones_disponibles=operadores,\n",
        "            expresion_actual=\"\",\n",
        "            cifras_usadas=[],\n",
        "            ops_usadas=[],\n",
        "            expresiones_validas=expresiones_validas\n",
        "        )\n",
        "\n",
        "    return expresiones_validas\n",
        "\n",
        "# Ejemplo de uso\n",
        "if __name__ == \"__main__\":\n",
        "    expresiones = generar_expresiones_backtracking()\n",
        "    print(f\"Total de expresiones generadas: {len(expresiones)}\")\n",
        "    print(\"Primeras 100 expresiones:\")\n",
        "    for e in expresiones[:100]:\n",
        "        print(e)\n"
      ],
      "metadata": {
        "colab": {
          "base_uri": "https://localhost:8080/"
        },
        "id": "B-lKa4rz29aw",
        "outputId": "c44c3faf-6c50-4d20-cff6-bbae8397e93f"
      },
      "execution_count": 57,
      "outputs": [
        {
          "output_type": "stream",
          "name": "stdout",
          "text": [
            "Total de expresiones generadas: 362880\n",
            "Primeras 100 expresiones:\n",
            "1+2-3*4/5\n",
            "1+2-3*5/4\n",
            "1+2-3/4*5\n",
            "1+2-3/5*4\n",
            "1+2-4*3/5\n",
            "1+2-4*5/3\n",
            "1+2-4/3*5\n",
            "1+2-4/5*3\n",
            "1+2-5*3/4\n",
            "1+2-5*4/3\n",
            "1+2-5/3*4\n",
            "1+2-5/4*3\n",
            "1+2*3-4/5\n",
            "1+2*3-5/4\n",
            "1+2*3/4-5\n",
            "1+2*3/5-4\n",
            "1+2*4-3/5\n",
            "1+2*4-5/3\n",
            "1+2*4/3-5\n",
            "1+2*4/5-3\n",
            "1+2*5-3/4\n",
            "1+2*5-4/3\n",
            "1+2*5/3-4\n",
            "1+2*5/4-3\n",
            "1+2/3-4*5\n",
            "1+2/3-5*4\n",
            "1+2/3*4-5\n",
            "1+2/3*5-4\n",
            "1+2/4-3*5\n",
            "1+2/4-5*3\n",
            "1+2/4*3-5\n",
            "1+2/4*5-3\n",
            "1+2/5-3*4\n",
            "1+2/5-4*3\n",
            "1+2/5*3-4\n",
            "1+2/5*4-3\n",
            "1+3-2*4/5\n",
            "1+3-2*5/4\n",
            "1+3-2/4*5\n",
            "1+3-2/5*4\n",
            "1+3-4*2/5\n",
            "1+3-4*5/2\n",
            "1+3-4/2*5\n",
            "1+3-4/5*2\n",
            "1+3-5*2/4\n",
            "1+3-5*4/2\n",
            "1+3-5/2*4\n",
            "1+3-5/4*2\n",
            "1+3*2-4/5\n",
            "1+3*2-5/4\n",
            "1+3*2/4-5\n",
            "1+3*2/5-4\n",
            "1+3*4-2/5\n",
            "1+3*4-5/2\n",
            "1+3*4/2-5\n",
            "1+3*4/5-2\n",
            "1+3*5-2/4\n",
            "1+3*5-4/2\n",
            "1+3*5/2-4\n",
            "1+3*5/4-2\n",
            "1+3/2-4*5\n",
            "1+3/2-5*4\n",
            "1+3/2*4-5\n",
            "1+3/2*5-4\n",
            "1+3/4-2*5\n",
            "1+3/4-5*2\n",
            "1+3/4*2-5\n",
            "1+3/4*5-2\n",
            "1+3/5-2*4\n",
            "1+3/5-4*2\n",
            "1+3/5*2-4\n",
            "1+3/5*4-2\n",
            "1+4-2*3/5\n",
            "1+4-2*5/3\n",
            "1+4-2/3*5\n",
            "1+4-2/5*3\n",
            "1+4-3*2/5\n",
            "1+4-3*5/2\n",
            "1+4-3/2*5\n",
            "1+4-3/5*2\n",
            "1+4-5*2/3\n",
            "1+4-5*3/2\n",
            "1+4-5/2*3\n",
            "1+4-5/3*2\n",
            "1+4*2-3/5\n",
            "1+4*2-5/3\n",
            "1+4*2/3-5\n",
            "1+4*2/5-3\n",
            "1+4*3-2/5\n",
            "1+4*3-5/2\n",
            "1+4*3/2-5\n",
            "1+4*3/5-2\n",
            "1+4*5-2/3\n",
            "1+4*5-3/2\n",
            "1+4*5/2-3\n",
            "1+4*5/3-2\n",
            "1+4/2-3*5\n",
            "1+4/2-5*3\n",
            "1+4/2*3-5\n",
            "1+4/2*5-3\n"
          ]
        }
      ]
    },
    {
      "cell_type": "markdown",
      "metadata": {
        "id": "eGDB4K6uk1iN"
      },
      "source": [
        "### Calcula la complejidad del algoritmo"
      ]
    },
    {
      "cell_type": "markdown",
      "source": [
        "Lo que hace el algoritmo para cada una de las 126 combinaciones de cifras usa backtracking para construir todas las expresiones bien formadas alternando:\n",
        "\n",
        "cifra → operador → cifra → operador → cifra → operador → cifra → operador → cifra\n",
        "\n",
        "Lo que entonces tendriamos dentro de la complejidad temporal\n",
        "Para cada combinación de 5 cifras (C(9,5) = 126):\n",
        "\n",
        "Se hacen P(5) = 120 permutaciones (todas las formas de ordenarlas), para cada una de esas, se hacen P(4) = 24 permutaciones de operadores, la construcción con backtracking visita todas esas combinaciones.\n",
        "\n",
        "Entonces, la complejidad total es:\n",
        "$O(C(9,5)\\cdot 5! \\cdot 4!)= O(126 \\cdot 120 \\cdot 24)= O(362880) $\n"
      ],
      "metadata": {
        "id": "N-R6y4VBUBng"
      }
    },
    {
      "cell_type": "markdown",
      "metadata": {
        "id": "3M6QjTsSkmYe"
      },
      "source": [
        "### Según el problema (y tenga sentido), diseña un juego de datos de entrada aleatorios y aplica el algoritmo al juego de datos generado"
      ]
    },
    {
      "cell_type": "code",
      "source": [
        "import random\n",
        "\n",
        "def generar_dato_entrada_aleatorio():\n",
        "    cifras = random.sample(range(1, 10), 5)  # 5 cifras distintas del 1 al 9\n",
        "    operaciones = random.sample(['+', '-', '*', '/'], 4)  # 4 operaciones distintas\n",
        "\n",
        "    expresion = \"\"\n",
        "    for i in range(5):\n",
        "        expresion += str(cifras[i])\n",
        "        if i < 4:\n",
        "            expresion += operaciones[i]\n",
        "    return expresion\n",
        "\n",
        "# Generar 10 entradas de prueba pero puedo poner mas y me mostrara\n",
        "for i in range(10):\n",
        "    expr = generar_dato_entrada_aleatorio()\n",
        "    try:\n",
        "        valor = eval(expr)\n",
        "        print(f\"{i+1:2d}. {expr} = {valor}\")\n",
        "    except ZeroDivisionError:\n",
        "        print(f\"{i+1:2d}. {expr} → división por cero\")\n"
      ],
      "metadata": {
        "colab": {
          "base_uri": "https://localhost:8080/"
        },
        "id": "GsgVn620VT17",
        "outputId": "58cc9f7d-3408-4abd-8c3b-dce26a9c387a"
      },
      "execution_count": 58,
      "outputs": [
        {
          "output_type": "stream",
          "name": "stdout",
          "text": [
            " 1. 9*7+6/1-3 = 66.0\n",
            " 2. 7-8/1+9*3 = 26.0\n",
            " 3. 3-2/7*8+4 = 4.714285714285714\n",
            " 4. 5-2/4*3+9 = 12.5\n",
            " 5. 7/1+3-2*6 = -2.0\n",
            " 6. 3*1/8-5+6 = 1.375\n",
            " 7. 7+3-9/6*1 = 8.5\n",
            " 8. 3+1*2/6-4 = -0.6666666666666665\n",
            " 9. 9/7*2-8+3 = -2.428571428571429\n",
            "10. 5-8*9+1/6 = -66.83333333333333\n"
          ]
        }
      ]
    },
    {
      "cell_type": "markdown",
      "metadata": {
        "id": "eTFWUJQrtGcv"
      },
      "source": [
        "### Enumera las referencias que has utilizado(si ha sido necesario) para llevar a cabo el trabajo"
      ]
    },
    {
      "cell_type": "markdown",
      "metadata": {
        "id": "YKQ_mRBttWsP"
      },
      "source": [
        "\n",
        "\n",
        "*   Cormen, TH, Leiserson, CE, Rivest, RL y Stein, C. (2022). Introducción a los algoritmos . Prensa del MIT.\n",
        "*   Tardos, J. K. É. Algorithm Design Jon Kleinberg Éva Tardos First Edition.\n",
        "*   Knuth, D. E. (2013). Art of Computer Programming, Volume 4, Fascicle 4, The: Generating All Trees--History of Combinatorial Generation. Addison-Wesley Professional.\n",
        "*   Kondrak, G., & Van Beek, P. (1997). A theoretical evaluation of selected backtracking algorithms. Artificial Intelligence, 89(1-2), 365-387.\n",
        "\n",
        "\n"
      ]
    },
    {
      "cell_type": "markdown",
      "metadata": {
        "id": "kAkDPUyRtYyH"
      },
      "source": [
        "### Describe brevemente las lineas de como crees que es posible avanzar en el estudio del problema. Ten en cuenta incluso posibles variaciones del problema y/o variaciones al alza del tamaño"
      ]
    },
    {
      "cell_type": "markdown",
      "metadata": {
        "id": "IE0uZmo-tZu-"
      },
      "source": [
        "Dado que se hizo en base a un problema seria interesante mirar como crece el tiempo con mas cifras u opeeraciones.\n",
        "\n",
        "Se podria optimizar el espacio de busqueda aplicando la poda inteligente, donde no se evaluan las ramas que llevan a valores imposibles, tambien descartar divisiones que siempre seran no enteras, incluso implementar memoizacion.\n",
        "\n"
      ]
    }
  ],
  "metadata": {
    "colab": {
      "provenance": [],
      "include_colab_link": true
    },
    "kernelspec": {
      "display_name": "Python [conda env:base] *",
      "language": "python",
      "name": "conda-base-py"
    },
    "language_info": {
      "codemirror_mode": {
        "name": "ipython",
        "version": 3
      },
      "file_extension": ".py",
      "mimetype": "text/x-python",
      "name": "python",
      "nbconvert_exporter": "python",
      "pygments_lexer": "ipython3",
      "version": "3.13.5"
    }
  },
  "nbformat": 4,
  "nbformat_minor": 0
}